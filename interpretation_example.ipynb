{
 "cells": [
  {
   "cell_type": "markdown",
   "metadata": {},
   "source": [
    "Copyright (c) 2021 Pharmacelera S.L.\n",
    "\n",
    "All rights reserved.\n",
    "\n",
    "Description: Example for interpretation by atom/fragmnet coloring from scratch\n",
    "\n",
    "Usage: Define the molecule featurized method and model prediction method and run this script"
   ]
  },
  {
   "cell_type": "code",
   "execution_count": 4,
   "metadata": {},
   "outputs": [],
   "source": [
    "from rdkit import Chem\n",
    "from rdkit.Chem import AllChem\n",
    "from sklearn.preprocessing import MinMaxScaler\n",
    "from sklearn.feature_selection import VarianceThreshold\n",
    "from sklearn.ensemble import RandomForestRegressor\n",
    "import numpy as np\n",
    "import pandas as pd\n",
    "import joblib\n",
    "from interpret import Interpret_image"
   ]
  },
  {
   "cell_type": "markdown",
   "metadata": {},
   "source": [
    "Defined a function to featurize molecules which should take RDKIT.Mol object as inputs"
   ]
  },
  {
   "cell_type": "code",
   "execution_count": 2,
   "metadata": {},
   "outputs": [],
   "source": [
    "def smiles2mols(smiles):\n",
    "    if not isinstance(smiles,(list,np.ndarray)):\n",
    "        smiles=[smiles]\n",
    "    mols=[Chem.MolFromSmiles(s) for s in smiles]\n",
    "    return mols\n",
    "def featurized(mols):\n",
    "    if not isinstance(mols,(list,np.ndarray)):\n",
    "        mols=[mols]\n",
    "    fps=[Chem.rdMolDescriptors.GetMorganFingerprintAsBitVect(m,radius=2,nBits=2048) for m in mols]\n",
    "    return np.array(fps)"
   ]
  },
  {
   "cell_type": "markdown",
   "metadata": {},
   "source": [
    "Read 1000 records from a solubility dataset "
   ]
  },
  {
   "cell_type": "code",
   "execution_count": 5,
   "metadata": {},
   "outputs": [
    {
     "data": {
      "text/html": [
       "<div>\n",
       "<style scoped>\n",
       "    .dataframe tbody tr th:only-of-type {\n",
       "        vertical-align: middle;\n",
       "    }\n",
       "\n",
       "    .dataframe tbody tr th {\n",
       "        vertical-align: top;\n",
       "    }\n",
       "\n",
       "    .dataframe thead th {\n",
       "        text-align: right;\n",
       "    }\n",
       "</style>\n",
       "<table border=\"1\" class=\"dataframe\">\n",
       "  <thead>\n",
       "    <tr style=\"text-align: right;\">\n",
       "      <th></th>\n",
       "      <th>ID</th>\n",
       "      <th>Name</th>\n",
       "      <th>InChI</th>\n",
       "      <th>InChIKey</th>\n",
       "      <th>SMILES</th>\n",
       "      <th>Solubility</th>\n",
       "      <th>SD</th>\n",
       "      <th>Ocurrences</th>\n",
       "      <th>Group</th>\n",
       "      <th>MolWt</th>\n",
       "      <th>...</th>\n",
       "      <th>NumRotatableBonds</th>\n",
       "      <th>NumValenceElectrons</th>\n",
       "      <th>NumAromaticRings</th>\n",
       "      <th>NumSaturatedRings</th>\n",
       "      <th>NumAliphaticRings</th>\n",
       "      <th>RingCount</th>\n",
       "      <th>TPSA</th>\n",
       "      <th>LabuteASA</th>\n",
       "      <th>BalabanJ</th>\n",
       "      <th>BertzCT</th>\n",
       "    </tr>\n",
       "  </thead>\n",
       "  <tbody>\n",
       "    <tr>\n",
       "      <th>0</th>\n",
       "      <td>A-3</td>\n",
       "      <td>N,N,N-trimethyloctadecan-1-aminium bromide</td>\n",
       "      <td>InChI=1S/C21H46N.BrH/c1-5-6-7-8-9-10-11-12-13-...</td>\n",
       "      <td>SZEMGTQCPRNXEG-UHFFFAOYSA-M</td>\n",
       "      <td>[Br-].CCCCCCCCCCCCCCCCCC[N+](C)(C)C</td>\n",
       "      <td>-3.616127</td>\n",
       "      <td>0.0</td>\n",
       "      <td>1</td>\n",
       "      <td>G1</td>\n",
       "      <td>392.510</td>\n",
       "      <td>...</td>\n",
       "      <td>17.0</td>\n",
       "      <td>142.0</td>\n",
       "      <td>0.0</td>\n",
       "      <td>0.0</td>\n",
       "      <td>0.0</td>\n",
       "      <td>0.0</td>\n",
       "      <td>0.0</td>\n",
       "      <td>158.520601</td>\n",
       "      <td>0.000000</td>\n",
       "      <td>210.377334</td>\n",
       "    </tr>\n",
       "    <tr>\n",
       "      <th>1</th>\n",
       "      <td>A-4</td>\n",
       "      <td>Benzo[cd]indol-2(1H)-one</td>\n",
       "      <td>InChI=1S/C11H7NO/c13-11-8-5-1-3-7-4-2-6-9(12-1...</td>\n",
       "      <td>GPYLCFQEKPUWLD-UHFFFAOYSA-N</td>\n",
       "      <td>O=C1Nc2cccc3cccc1c23</td>\n",
       "      <td>-3.254767</td>\n",
       "      <td>0.0</td>\n",
       "      <td>1</td>\n",
       "      <td>G1</td>\n",
       "      <td>169.183</td>\n",
       "      <td>...</td>\n",
       "      <td>0.0</td>\n",
       "      <td>62.0</td>\n",
       "      <td>2.0</td>\n",
       "      <td>0.0</td>\n",
       "      <td>1.0</td>\n",
       "      <td>3.0</td>\n",
       "      <td>29.1</td>\n",
       "      <td>75.183563</td>\n",
       "      <td>2.582996</td>\n",
       "      <td>511.229248</td>\n",
       "    </tr>\n",
       "  </tbody>\n",
       "</table>\n",
       "<p>2 rows × 26 columns</p>\n",
       "</div>"
      ],
      "text/plain": [
       "    ID                                        Name  \\\n",
       "0  A-3  N,N,N-trimethyloctadecan-1-aminium bromide   \n",
       "1  A-4                    Benzo[cd]indol-2(1H)-one   \n",
       "\n",
       "                                               InChI  \\\n",
       "0  InChI=1S/C21H46N.BrH/c1-5-6-7-8-9-10-11-12-13-...   \n",
       "1  InChI=1S/C11H7NO/c13-11-8-5-1-3-7-4-2-6-9(12-1...   \n",
       "\n",
       "                      InChIKey                               SMILES  \\\n",
       "0  SZEMGTQCPRNXEG-UHFFFAOYSA-M  [Br-].CCCCCCCCCCCCCCCCCC[N+](C)(C)C   \n",
       "1  GPYLCFQEKPUWLD-UHFFFAOYSA-N                 O=C1Nc2cccc3cccc1c23   \n",
       "\n",
       "   Solubility   SD  Ocurrences Group    MolWt  ...  NumRotatableBonds  \\\n",
       "0   -3.616127  0.0           1    G1  392.510  ...               17.0   \n",
       "1   -3.254767  0.0           1    G1  169.183  ...                0.0   \n",
       "\n",
       "   NumValenceElectrons  NumAromaticRings  NumSaturatedRings  \\\n",
       "0                142.0               0.0                0.0   \n",
       "1                 62.0               2.0                0.0   \n",
       "\n",
       "   NumAliphaticRings  RingCount  TPSA   LabuteASA  BalabanJ     BertzCT  \n",
       "0                0.0        0.0   0.0  158.520601  0.000000  210.377334  \n",
       "1                1.0        3.0  29.1   75.183563  2.582996  511.229248  \n",
       "\n",
       "[2 rows x 26 columns]"
      ]
     },
     "execution_count": 5,
     "metadata": {},
     "output_type": "execute_result"
    }
   ],
   "source": [
    "soldata=pd.read_csv('./curated-solubility-dataset.csv').loc[:1000,:]\n",
    "soldata.head(2)"
   ]
  },
  {
   "cell_type": "markdown",
   "metadata": {},
   "source": [
    "Featurize the molecules and train a regressor model with RandomForest"
   ]
  },
  {
   "cell_type": "code",
   "execution_count": 6,
   "metadata": {},
   "outputs": [
    {
     "data": {
      "text/plain": [
       "RandomForestRegressor(n_estimators=200)"
      ]
     },
     "execution_count": 6,
     "metadata": {},
     "output_type": "execute_result"
    }
   ],
   "source": [
    "X=featurized(smiles2mols(soldata['SMILES'].values))\n",
    "Y=soldata['Solubility'].values\n",
    "model=RandomForestRegressor(n_estimators=200)\n",
    "model.fit(X,Y)"
   ]
  },
  {
   "cell_type": "markdown",
   "metadata": {},
   "source": [
    "Call and initial the interpretation class Interpret_image() \n",
    "\n",
    "This class needs four parameters:\n",
    "\n",
    "predict: a defined model prediction method.\n",
    "\n",
    "featurize_mol: a defined molecule featurized method for molecule containing no dummy atoms.\n",
    "\n",
    "featurize_mol_dummy: a defined molecule featurized method for molecule containing dummy atoms if needed. Default is None.\n",
    "\n",
    "scaler : a defined scaler method for descriptors. Default is None"
   ]
  },
  {
   "cell_type": "code",
   "execution_count": 7,
   "metadata": {},
   "outputs": [],
   "source": [
    "inter_ex=Interpret_image(predict=model.predict,featurize_mol=featurized)"
   ]
  },
  {
   "cell_type": "markdown",
   "metadata": {},
   "source": [
    "Interpret one molecule by call the get_image() function\n",
    "\n",
    "Parameters:\n",
    "\n",
    "smiles : a single SMILES for interpretation.\n",
    "\n",
    "label : label of the molecule.\n",
    "\n",
    "im_path : path to save images. Default is current path.\n",
    "\n",
    "level : level of interpretation. atom: Atom level. frag: fragment level defeind by Get_Fragment_lst method. self-defined: defeind list by users. Default is 'frag'.\n",
    "\n",
    "frag_lst : need to provide a list for interpretation when in 'self-defined' level. e.g. [[1],[2],[3,4,5],[6,7]]. Default is None."
   ]
  },
  {
   "cell_type": "code",
   "execution_count": 8,
   "metadata": {},
   "outputs": [
    {
     "name": "stdout",
     "output_type": "stream",
     "text": [
      "Predicted value of A-4 : -3.66 \n"
     ]
    }
   ],
   "source": [
    "smiles=soldata.loc[1,'SMILES']\n",
    "ID=soldata.loc[1,'ID']\n",
    "inter_ex.get_image(smiles=smiles,label=ID,im_path='./example',level='frag',)"
   ]
  },
  {
   "cell_type": "code",
   "execution_count": null,
   "metadata": {},
   "outputs": [],
   "source": []
  }
 ],
 "metadata": {
  "kernelspec": {
   "display_name": "Python 3 (ipykernel)",
   "language": "python",
   "name": "python3"
  },
  "language_info": {
   "codemirror_mode": {
    "name": "ipython",
    "version": 3
   },
   "file_extension": ".py",
   "mimetype": "text/x-python",
   "name": "python",
   "nbconvert_exporter": "python",
   "pygments_lexer": "ipython3",
   "version": "3.10.4"
  },
  "vscode": {
   "interpreter": {
    "hash": "0cf705bac82f79e460456a5241569c54c9dcaa9898204356df7cc8dc4366399c"
   }
  }
 },
 "nbformat": 4,
 "nbformat_minor": 2
}
